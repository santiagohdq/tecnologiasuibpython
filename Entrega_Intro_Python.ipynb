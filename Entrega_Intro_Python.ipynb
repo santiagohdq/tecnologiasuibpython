{
 "cells": [
  {
   "cell_type": "markdown",
   "id": "f1246f97-4998-4d3c-adc7-af7fcd5a90a7",
   "metadata": {},
   "source": [
    "# Entrega Introducción Python\n",
    "#**Santiago Hernandez Duque**"
   ]
  },
  {
   "cell_type": "code",
   "execution_count": 23,
   "id": "82eabc9e-a3b6-4237-9208-120dbe4fd1c3",
   "metadata": {},
   "outputs": [
    {
     "name": "stdout",
     "output_type": "stream",
     "text": [
      "(1, 1, 2025)\n"
     ]
    }
   ],
   "source": [
    "#Programa que retorna la fecha del día siguiente\n",
    "def next_day(d,m,a):\n",
    "    tot_days_month=[31, 28, 31, 30, 31, 30, 31, 31, 30, 31, 30, 31]\n",
    "    if (a % 4 == 0 and a % 100 != 0) or (a % 400 == 0):\n",
    "        tot_days_month[1] = 29\n",
    "        d+=1\n",
    "    if d>tot_days_month[m-1]:\n",
    "        d=1\n",
    "        m+=1\n",
    "    if m>12:\n",
    "        m=1\n",
    "        a+=1\n",
    "    return d,m,a\n",
    "\n",
    "print(next_day(31,12,2024))\n"
   ]
  },
  {
   "cell_type": "code",
   "execution_count": null,
   "id": "96f0c6c0-2679-4f86-81ce-aac0d428efe3",
   "metadata": {},
   "outputs": [],
   "source": []
  }
 ],
 "metadata": {
  "kernelspec": {
   "display_name": "Python 3 (ipykernel)",
   "language": "python",
   "name": "python3"
  },
  "language_info": {
   "codemirror_mode": {
    "name": "ipython",
    "version": 3
   },
   "file_extension": ".py",
   "mimetype": "text/x-python",
   "name": "python",
   "nbconvert_exporter": "python",
   "pygments_lexer": "ipython3",
   "version": "3.13.0"
  }
 },
 "nbformat": 4,
 "nbformat_minor": 5
}
