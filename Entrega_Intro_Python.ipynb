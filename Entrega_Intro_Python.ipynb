{
 "cells": [
  {
   "cell_type": "markdown",
   "id": "f1246f97-4998-4d3c-adc7-af7fcd5a90a7",
   "metadata": {},
   "source": [
    "# Entrega Introducción Python\n",
    "**Santiago Hernandez Duque**\n",
    "\n",
    "Link de mi repositorio: https://github.com/santiagohdq/tecnologiasuibpython.git"
   ]
  },
  {
   "cell_type": "markdown",
   "id": "181e5361-2aac-45bc-9677-034865eb13bb",
   "metadata": {},
   "source": [
    "Programa que retorna la fecha del día siguiente:"
   ]
  },
  {
   "cell_type": "code",
   "execution_count": 4,
   "id": "8a09b08a-0b58-473e-ace5-f79c06621f99",
   "metadata": {},
   "outputs": [
    {
     "name": "stdout",
     "output_type": "stream",
     "text": [
      "(1, 1, 2025)\n"
     ]
    }
   ],
   "source": [
    "def next_day(d,m,a):\n",
    "    tot_days_month=[31, 28, 31, 30, 31, 30, 31, 31, 30, 31, 30, 31]\n",
    "    if (a % 4 == 0 and a % 100 != 0) or (a % 400 == 0):\n",
    "        tot_days_month[1] = 29\n",
    "        d+=1\n",
    "    if d>tot_days_month[m-1]:\n",
    "        d=1\n",
    "        m+=1\n",
    "    if m>12:\n",
    "        m=1\n",
    "        a+=1\n",
    "    return d,m,a\n",
    "\n",
    "print(next_day(31,12,2024))\n"
   ]
  },
  {
   "cell_type": "markdown",
   "id": "37df2036-a66b-4a46-b585-cd9b795add51",
   "metadata": {},
   "source": [
    "Programa que cuenta las repeticiones de cada palabra:"
   ]
  },
  {
   "cell_type": "code",
   "execution_count": 5,
   "id": "96f0c6c0-2679-4f86-81ce-aac0d428efe3",
   "metadata": {},
   "outputs": [
    {
     "name": "stdout",
     "output_type": "stream",
     "text": [
      "{'Perro': 1, 'Gato': 1, 'Casa': 1, 'Coche': 1, 'Árbol': 1, 'Sol': 1, 'Luna': 1, 'Mar': 1, 'Montaña': 1, 'Río': 1, 'Playa': 1, 'Libro': 1, 'Computadora': 1, 'Teléfono': 1, 'Amigo': 1, 'Familia': 1, 'Trabajo': 1, 'Comida': 1, 'Película': 1, 'Música': 1, 'Viaje': 1, 'Deporte': 1, 'Juego': 1, 'Amor': 1, 'Odio': 1, 'Felicidad': 1, 'Tristeza': 1, 'Alegría': 1, 'Dolor': 1, 'Sueño': 1, 'Noche': 1, 'Día': 1, 'Agua': 1, 'Fuego': 1, 'Aire': 1, 'Tierra': 1, 'Cielo': 1, 'Estrella': 1, 'Flor': 1, 'Fruta': 1, 'Verdura': 1, 'Chocolate': 1, 'Café': 1, 'Té': 1, 'Vino': 1, 'Cerveza': 1, 'Dinero': 1, 'Tiempo': 1, 'Reloj': 2}\n"
     ]
    }
   ],
   "source": [
    "spanish_words = [\"Perro\", \"Gato\", \"Casa\", \"Coche\", \"Árbol\", \"Sol\", \"Luna\", \"Mar\", \"Montaña\", \"Río\", \"Playa\", \"Libro\", \"Computadora\", \"Teléfono\",\n",
    "                \"Amigo\", \"Familia\", \"Trabajo\", \"Comida\", \"Película\",\"Música\", \"Viaje\", \"Deporte\", \"Juego\", \"Amor\", \"Odio\", \"Felicidad\", \n",
    "                \"Tristeza\", \"Alegría\", \"Dolor\", \"Sueño\", \"Noche\", \"Día\", \"Agua\", \"Fuego\", \"Aire\", \"Tierra\", \"Cielo\", \"Estrella\", \"Flor\", \n",
    "                \"Fruta\", \"Verdura\", \"Chocolate\", \"Café\", \"Té\", \"Vino\", \"Cerveza\", \"Dinero\", \"Tiempo\", \"Reloj\", \"Reloj\"]\n",
    "\n",
    "def words_count(words):\n",
    "    count= {}\n",
    "    for words in words:\n",
    "        if words in count:\n",
    "            count[words] += 1\n",
    "        else:\n",
    "            count[words] = 1\n",
    "    return count\n",
    "\n",
    "num_words= words_count(spanish_words)\n",
    "print(num_words)\n"
   ]
  },
  {
   "cell_type": "markdown",
   "id": "62b395ea-64a3-45e1-82e0-645c48ab21c1",
   "metadata": {},
   "source": [
    "Ejercicio precios de vegetales:"
   ]
  },
  {
   "cell_type": "code",
   "execution_count": 6,
   "id": "a673ce59-3893-4681-8023-a8cdfc67f9f9",
   "metadata": {
    "scrolled": true
   },
   "outputs": [
    {
     "name": "stdout",
     "output_type": "stream",
     "text": [
      "Max price per product: {'onion': 39.0, 'potatoe': 0.43, 'orange': 0.56}\n",
      "The expensivest product is: onion\n",
      "Most expensive day for oranges: 2\n"
     ]
    }
   ],
   "source": [
    "origin_price= {\n",
    "\"onion\": [30.3, 20.3, 25.9, 39.0], # centimos/kg\n",
    "\"potatoe\":[0.33, 0.43, 0.34, 0.12], # euro/kg\n",
    "\"orange\":[0.45, 0.56, 0.38, 0.43] # euro/kg\n",
    "}\n",
    "\n",
    "def max_price(prices):\n",
    "    return {product: max(price_list) for product, price_list in origin_price.items()}\n",
    "print(\"Max price per product:\", max_price(origin_price))\n",
    "\n",
    "def expensivest_product(prices):\n",
    "    max_prices= max_price(prices)\n",
    "    return max(max_prices, key=max_prices.get)\n",
    "print(\"The expensivest product is:\", expensivest_product(origin_price))\n",
    "\n",
    "def expn_orange_day(price):\n",
    "    return price[\"orange\"].index(max(price[\"orange\"])) + 1  # +1 para que sea un índice humano\n",
    "print(\"Most expensive day for oranges:\", expn_orange_day(origin_price))"
   ]
  },
  {
   "cell_type": "markdown",
   "id": "f025974a-0141-429a-b318-a0020441d095",
   "metadata": {},
   "source": [
    "Problema de inventario de empresa"
   ]
  },
  {
   "cell_type": "code",
   "execution_count": 7,
   "id": "af3d17da-a591-47a7-b300-f5e8e5c655cc",
   "metadata": {},
   "outputs": [],
   "source": [
    "#Diccionario de inventario:\n",
    "stock= {\n",
    "    \"engine_comp\":[(\"crankshaft\", 800, 5), (\"cylinder\", 100, 12), (\"camshaft\", 300, 8), (\"fan\", 50, 5), (\"head gasket\", 40, 10)],\n",
    "    \"rotables\":[(\"nut\", 2, 500), (\"bolt\", 1.5, 800), (\"rivet\", 0.75, 2500), (\"fastener\", 0.50, 1700), (\"washer\", 0.50, 1900)],\n",
    "}"
   ]
  },
  {
   "cell_type": "code",
   "execution_count": 8,
   "id": "8ab2177d-78b9-45e4-8905-314f550c57de",
   "metadata": {},
   "outputs": [
    {
     "name": "stdout",
     "output_type": "stream",
     "text": [
      "Price per category: {'engine_comp': 8250, 'rotables': 5875.0}\n"
     ]
    }
   ],
   "source": [
    "#Valor total del inventario por categoría:\n",
    "\n",
    "def stock_tot_price(stock):\n",
    "    price_category= {}\n",
    "    for category, products in stock.items():\n",
    "        total= sum(price*quantity for name, price, quantity in products)\n",
    "        price_category[category]= total\n",
    "    return price_category\n",
    "\n",
    "print(\"Price per category:\", stock_tot_price(stock))"
   ]
  },
  {
   "cell_type": "code",
   "execution_count": 9,
   "id": "bf9aa271-a3ec-4afb-9c6e-0bbd028fc2d6",
   "metadata": {},
   "outputs": [
    {
     "name": "stdout",
     "output_type": "stream",
     "text": [
      "The highest price category is: engine_comp\n"
     ]
    }
   ],
   "source": [
    "#Categoría de mayor valor en el inventario:\n",
    "def highest_val_categ(price_category):\n",
    "    return max(price_category, key=price_category.get)\n",
    "price_category= stock_tot_price(stock)\n",
    "\n",
    "print(\"The highest price category is:\", highest_val_categ(price_category))"
   ]
  },
  {
   "cell_type": "code",
   "execution_count": 12,
   "id": "9eabdfaa-c6fe-4aee-9694-d90859056372",
   "metadata": {},
   "outputs": [
    {
     "name": "stdout",
     "output_type": "stream",
     "text": [
      "Updated cylinder stock in engine_comp to 15.\n",
      "{'engine_comp': [('crankshaft', 800, 5), ('cylinder', 100, 15), ('camshaft', 300, 8), ('fan', 50, 5), ('head gasket', 40, 10)], 'rotables': [('nut', 2, 500), ('bolt', 1.5, 800), ('rivet', 0.75, 2500), ('fastener', 0.5, 1700), ('washer', 0.5, 1900)]}\n"
     ]
    }
   ],
   "source": [
    "#Opcion actualizar stok por categoría:\n",
    "def update_stock(stock, category, product_name, new_quantity):\n",
    "    if category in stock:\n",
    "        for i, (name, price, quantity) in enumerate(stock[category]):\n",
    "            if name == product_name:\n",
    "                stock[category][i] = (name, price, new_quantity)\n",
    "                print(f\"Updated {product_name} stock in {category} to {new_quantity}.\")\n",
    "                return\n",
    "\n",
    "update_stock(stock, \"engine_comp\", \"cylinder\", 15)\n",
    "print(stock)\n"
   ]
  }
 ],
 "metadata": {
  "kernelspec": {
   "display_name": "Python 3 (ipykernel)",
   "language": "python",
   "name": "python3"
  },
  "language_info": {
   "codemirror_mode": {
    "name": "ipython",
    "version": 3
   },
   "file_extension": ".py",
   "mimetype": "text/x-python",
   "name": "python",
   "nbconvert_exporter": "python",
   "pygments_lexer": "ipython3",
   "version": "3.13.0"
  }
 },
 "nbformat": 4,
 "nbformat_minor": 5
}
